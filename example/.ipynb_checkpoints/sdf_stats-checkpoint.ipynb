{
 "cells": [
  {
   "cell_type": "code",
   "execution_count": 1,
   "id": "614b5703-8b82-44f9-858b-9b4881bb549b",
   "metadata": {
    "ExecutionIndicator": {
     "show": true
    },
    "execution": {
     "iopub.execute_input": "2024-04-14T15:19:47.857507Z",
     "iopub.status.busy": "2024-04-14T15:19:47.857363Z",
     "iopub.status.idle": "2024-04-14T15:19:48.052926Z",
     "shell.execute_reply": "2024-04-14T15:19:48.052540Z",
     "shell.execute_reply.started": "2024-04-14T15:19:47.857494Z"
    },
    "tags": []
   },
   "outputs": [
    {
     "name": "stdout",
     "output_type": "stream",
     "text": [
      "1999\n"
     ]
    }
   ],
   "source": [
    "from os import listdir\n",
    "from os.path import join\n",
    "\n",
    "sdf_dir = \"../sdf/bnet_sdf_256\"\n",
    "file_paths = [join(sdf_dir, file) for file in listdir(sdf_dir) if file.endswith('.obj')]\n",
    "print(len(file_paths))"
   ]
  },
  {
   "cell_type": "code",
   "execution_count": null,
   "id": "00ee8c70-f7e9-43af-9166-7523efb7e939",
   "metadata": {},
   "outputs": [],
   "source": []
  },
  {
   "cell_type": "code",
   "execution_count": null,
   "id": "5cfca1e4-7b7a-4474-85a5-81c5879d3b26",
   "metadata": {},
   "outputs": [],
   "source": []
  },
  {
   "cell_type": "code",
   "execution_count": null,
   "id": "f92842ac-4b27-4821-93b9-466895dc4df9",
   "metadata": {},
   "outputs": [],
   "source": []
  }
 ],
 "metadata": {
  "kernelspec": {
   "display_name": "Python 3 (ipykernel)",
   "language": "python",
   "name": "python3"
  },
  "language_info": {
   "codemirror_mode": {
    "name": "ipython",
    "version": 3
   },
   "file_extension": ".py",
   "mimetype": "text/x-python",
   "name": "python",
   "nbconvert_exporter": "python",
   "pygments_lexer": "ipython3",
   "version": "3.9.15"
  }
 },
 "nbformat": 4,
 "nbformat_minor": 5
}
